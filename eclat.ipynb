{
 "cells": [
  {
   "cell_type": "code",
   "execution_count": 1,
   "metadata": {},
   "outputs": [],
   "source": [
    "# import\n",
    "import numpy as np\n",
    "import os\n",
    "import pandas as pd\n",
    "import matplotlib.pyplot as plt\n",
    "\n",
    "df = pd.read_csv(\"TV Shows - Association Rule Learning.csv\", header=None)\n",
    "\n",
    "from collections import defaultdict\n"
   ]
  },
  {
   "cell_type": "code",
   "execution_count": 2,
   "metadata": {},
   "outputs": [
    {
     "name": "stdout",
     "output_type": "stream",
     "text": [
      "<class 'pandas.core.frame.DataFrame'>\n",
      "RangeIndex: 9690 entries, 0 to 9689\n",
      "Data columns (total 32 columns):\n",
      " #   Column  Non-Null Count  Dtype \n",
      "---  ------  --------------  ----- \n",
      " 0   0       9690 non-null   object\n",
      " 1   1       7557 non-null   object\n",
      " 2   2       5947 non-null   object\n",
      " 3   3       4667 non-null   object\n",
      " 4   4       3678 non-null   object\n",
      " 5   5       2837 non-null   object\n",
      " 6   6       2197 non-null   object\n",
      " 7   7       1664 non-null   object\n",
      " 8   8       1231 non-null   object\n",
      " 9   9       887 non-null    object\n",
      " 10  10      644 non-null    object\n",
      " 11  11      464 non-null    object\n",
      " 12  12      348 non-null    object\n",
      " 13  13      272 non-null    object\n",
      " 14  14      196 non-null    object\n",
      " 15  15      141 non-null    object\n",
      " 16  16      95 non-null     object\n",
      " 17  17      66 non-null     object\n",
      " 18  18      52 non-null     object\n",
      " 19  19      38 non-null     object\n",
      " 20  20      29 non-null     object\n",
      " 21  21      18 non-null     object\n",
      " 22  22      14 non-null     object\n",
      " 23  23      8 non-null      object\n",
      " 24  24      7 non-null      object\n",
      " 25  25      7 non-null      object\n",
      " 26  26      6 non-null      object\n",
      " 27  27      5 non-null      object\n",
      " 28  28      4 non-null      object\n",
      " 29  29      1 non-null      object\n",
      " 30  30      1 non-null      object\n",
      " 31  31      1 non-null      object\n",
      "dtypes: object(32)\n",
      "memory usage: 2.4+ MB\n"
     ]
    }
   ],
   "source": [
    "# importing dataset ( example 1 and example 2 are datasets in pyECLAT)\n",
    "#from pyECLAT import Example2\n",
    "# Load dataset\n",
    "\n",
    "df.info()\n",
    "# storing the dataset in a variable\n",
    "#dataset = df.get()\n",
    "# printing the dataset\n",
    "df.head()\n",
    "#dataset = df.get()\n",
    "# Create a copy of the first row\n",
    "first_row_copy = df.iloc[0:1].copy()\n",
    "\n",
    "# Append the copy as the last row\n",
    "df = pd.concat([df, first_row_copy], ignore_index=True)\n",
    "#num_columns = len(df.columns)\n",
    "#df.columns = [f\"Column{i}\" for i in range(1, num_columns + 1)]\n"
   ]
  },
  {
   "cell_type": "code",
   "execution_count": 3,
   "metadata": {},
   "outputs": [
    {
     "data": {
      "text/html": [
       "<div>\n",
       "<style scoped>\n",
       "    .dataframe tbody tr th:only-of-type {\n",
       "        vertical-align: middle;\n",
       "    }\n",
       "\n",
       "    .dataframe tbody tr th {\n",
       "        vertical-align: top;\n",
       "    }\n",
       "\n",
       "    .dataframe thead th {\n",
       "        text-align: right;\n",
       "    }\n",
       "</style>\n",
       "<table border=\"1\" class=\"dataframe\">\n",
       "  <thead>\n",
       "    <tr style=\"text-align: right;\">\n",
       "      <th></th>\n",
       "      <th>Shooter</th>\n",
       "      <th>Madmen</th>\n",
       "      <th>Banshee</th>\n",
       "      <th>The Good Doctor</th>\n",
       "      <th>Into the night</th>\n",
       "      <th>Upload</th>\n",
       "      <th>Westworld</th>\n",
       "      <th>His Dark Materials</th>\n",
       "      <th>Shadow and Bone</th>\n",
       "      <th>South Park</th>\n",
       "      <th>...</th>\n",
       "      <th>Constantine</th>\n",
       "      <th>Elementary</th>\n",
       "      <th>The Mentalist</th>\n",
       "      <th>Gotham</th>\n",
       "      <th>Daredevil</th>\n",
       "      <th>Narcos</th>\n",
       "      <th>Teen Wolf</th>\n",
       "      <th>Good Omens</th>\n",
       "      <th>Friends</th>\n",
       "      <th>How I met your mother</th>\n",
       "    </tr>\n",
       "  </thead>\n",
       "  <tbody>\n",
       "    <tr>\n",
       "      <th>0</th>\n",
       "      <td>0</td>\n",
       "      <td>0</td>\n",
       "      <td>0</td>\n",
       "      <td>0</td>\n",
       "      <td>0</td>\n",
       "      <td>0</td>\n",
       "      <td>0</td>\n",
       "      <td>0</td>\n",
       "      <td>0</td>\n",
       "      <td>0</td>\n",
       "      <td>...</td>\n",
       "      <td>0</td>\n",
       "      <td>0</td>\n",
       "      <td>0</td>\n",
       "      <td>0</td>\n",
       "      <td>0</td>\n",
       "      <td>0</td>\n",
       "      <td>0</td>\n",
       "      <td>0</td>\n",
       "      <td>0</td>\n",
       "      <td>0</td>\n",
       "    </tr>\n",
       "    <tr>\n",
       "      <th>1</th>\n",
       "      <td>0</td>\n",
       "      <td>0</td>\n",
       "      <td>0</td>\n",
       "      <td>0</td>\n",
       "      <td>0</td>\n",
       "      <td>0</td>\n",
       "      <td>0</td>\n",
       "      <td>0</td>\n",
       "      <td>0</td>\n",
       "      <td>0</td>\n",
       "      <td>...</td>\n",
       "      <td>0</td>\n",
       "      <td>0</td>\n",
       "      <td>1</td>\n",
       "      <td>0</td>\n",
       "      <td>0</td>\n",
       "      <td>0</td>\n",
       "      <td>0</td>\n",
       "      <td>0</td>\n",
       "      <td>0</td>\n",
       "      <td>0</td>\n",
       "    </tr>\n",
       "    <tr>\n",
       "      <th>2</th>\n",
       "      <td>0</td>\n",
       "      <td>0</td>\n",
       "      <td>0</td>\n",
       "      <td>0</td>\n",
       "      <td>0</td>\n",
       "      <td>0</td>\n",
       "      <td>0</td>\n",
       "      <td>0</td>\n",
       "      <td>0</td>\n",
       "      <td>0</td>\n",
       "      <td>...</td>\n",
       "      <td>0</td>\n",
       "      <td>0</td>\n",
       "      <td>0</td>\n",
       "      <td>0</td>\n",
       "      <td>0</td>\n",
       "      <td>0</td>\n",
       "      <td>0</td>\n",
       "      <td>0</td>\n",
       "      <td>0</td>\n",
       "      <td>0</td>\n",
       "    </tr>\n",
       "    <tr>\n",
       "      <th>3</th>\n",
       "      <td>0</td>\n",
       "      <td>0</td>\n",
       "      <td>0</td>\n",
       "      <td>0</td>\n",
       "      <td>0</td>\n",
       "      <td>0</td>\n",
       "      <td>0</td>\n",
       "      <td>0</td>\n",
       "      <td>0</td>\n",
       "      <td>0</td>\n",
       "      <td>...</td>\n",
       "      <td>1</td>\n",
       "      <td>0</td>\n",
       "      <td>0</td>\n",
       "      <td>0</td>\n",
       "      <td>0</td>\n",
       "      <td>0</td>\n",
       "      <td>0</td>\n",
       "      <td>0</td>\n",
       "      <td>0</td>\n",
       "      <td>0</td>\n",
       "    </tr>\n",
       "    <tr>\n",
       "      <th>4</th>\n",
       "      <td>0</td>\n",
       "      <td>0</td>\n",
       "      <td>0</td>\n",
       "      <td>0</td>\n",
       "      <td>0</td>\n",
       "      <td>0</td>\n",
       "      <td>0</td>\n",
       "      <td>0</td>\n",
       "      <td>0</td>\n",
       "      <td>0</td>\n",
       "      <td>...</td>\n",
       "      <td>0</td>\n",
       "      <td>0</td>\n",
       "      <td>0</td>\n",
       "      <td>0</td>\n",
       "      <td>0</td>\n",
       "      <td>0</td>\n",
       "      <td>0</td>\n",
       "      <td>0</td>\n",
       "      <td>0</td>\n",
       "      <td>0</td>\n",
       "    </tr>\n",
       "    <tr>\n",
       "      <th>...</th>\n",
       "      <td>...</td>\n",
       "      <td>...</td>\n",
       "      <td>...</td>\n",
       "      <td>...</td>\n",
       "      <td>...</td>\n",
       "      <td>...</td>\n",
       "      <td>...</td>\n",
       "      <td>...</td>\n",
       "      <td>...</td>\n",
       "      <td>...</td>\n",
       "      <td>...</td>\n",
       "      <td>...</td>\n",
       "      <td>...</td>\n",
       "      <td>...</td>\n",
       "      <td>...</td>\n",
       "      <td>...</td>\n",
       "      <td>...</td>\n",
       "      <td>...</td>\n",
       "      <td>...</td>\n",
       "      <td>...</td>\n",
       "      <td>...</td>\n",
       "    </tr>\n",
       "    <tr>\n",
       "      <th>9686</th>\n",
       "      <td>0</td>\n",
       "      <td>0</td>\n",
       "      <td>0</td>\n",
       "      <td>0</td>\n",
       "      <td>0</td>\n",
       "      <td>0</td>\n",
       "      <td>0</td>\n",
       "      <td>0</td>\n",
       "      <td>0</td>\n",
       "      <td>0</td>\n",
       "      <td>...</td>\n",
       "      <td>0</td>\n",
       "      <td>0</td>\n",
       "      <td>0</td>\n",
       "      <td>0</td>\n",
       "      <td>0</td>\n",
       "      <td>0</td>\n",
       "      <td>0</td>\n",
       "      <td>0</td>\n",
       "      <td>0</td>\n",
       "      <td>0</td>\n",
       "    </tr>\n",
       "    <tr>\n",
       "      <th>9687</th>\n",
       "      <td>0</td>\n",
       "      <td>0</td>\n",
       "      <td>0</td>\n",
       "      <td>0</td>\n",
       "      <td>0</td>\n",
       "      <td>0</td>\n",
       "      <td>0</td>\n",
       "      <td>0</td>\n",
       "      <td>0</td>\n",
       "      <td>0</td>\n",
       "      <td>...</td>\n",
       "      <td>0</td>\n",
       "      <td>0</td>\n",
       "      <td>0</td>\n",
       "      <td>0</td>\n",
       "      <td>1</td>\n",
       "      <td>0</td>\n",
       "      <td>0</td>\n",
       "      <td>0</td>\n",
       "      <td>0</td>\n",
       "      <td>0</td>\n",
       "    </tr>\n",
       "    <tr>\n",
       "      <th>9688</th>\n",
       "      <td>0</td>\n",
       "      <td>0</td>\n",
       "      <td>0</td>\n",
       "      <td>0</td>\n",
       "      <td>0</td>\n",
       "      <td>0</td>\n",
       "      <td>0</td>\n",
       "      <td>0</td>\n",
       "      <td>0</td>\n",
       "      <td>0</td>\n",
       "      <td>...</td>\n",
       "      <td>0</td>\n",
       "      <td>0</td>\n",
       "      <td>0</td>\n",
       "      <td>0</td>\n",
       "      <td>0</td>\n",
       "      <td>0</td>\n",
       "      <td>0</td>\n",
       "      <td>0</td>\n",
       "      <td>0</td>\n",
       "      <td>0</td>\n",
       "    </tr>\n",
       "    <tr>\n",
       "      <th>9689</th>\n",
       "      <td>0</td>\n",
       "      <td>0</td>\n",
       "      <td>0</td>\n",
       "      <td>0</td>\n",
       "      <td>0</td>\n",
       "      <td>0</td>\n",
       "      <td>0</td>\n",
       "      <td>0</td>\n",
       "      <td>0</td>\n",
       "      <td>0</td>\n",
       "      <td>...</td>\n",
       "      <td>0</td>\n",
       "      <td>0</td>\n",
       "      <td>0</td>\n",
       "      <td>0</td>\n",
       "      <td>0</td>\n",
       "      <td>0</td>\n",
       "      <td>0</td>\n",
       "      <td>0</td>\n",
       "      <td>0</td>\n",
       "      <td>0</td>\n",
       "    </tr>\n",
       "    <tr>\n",
       "      <th>9690</th>\n",
       "      <td>0</td>\n",
       "      <td>0</td>\n",
       "      <td>0</td>\n",
       "      <td>0</td>\n",
       "      <td>0</td>\n",
       "      <td>0</td>\n",
       "      <td>0</td>\n",
       "      <td>0</td>\n",
       "      <td>0</td>\n",
       "      <td>0</td>\n",
       "      <td>...</td>\n",
       "      <td>0</td>\n",
       "      <td>0</td>\n",
       "      <td>0</td>\n",
       "      <td>0</td>\n",
       "      <td>0</td>\n",
       "      <td>0</td>\n",
       "      <td>0</td>\n",
       "      <td>0</td>\n",
       "      <td>0</td>\n",
       "      <td>0</td>\n",
       "    </tr>\n",
       "  </tbody>\n",
       "</table>\n",
       "<p>9691 rows × 156 columns</p>\n",
       "</div>"
      ],
      "text/plain": [
       "      Shooter  Madmen  Banshee  The Good Doctor  Into the night  Upload  \\\n",
       "0           0       0        0                0               0       0   \n",
       "1           0       0        0                0               0       0   \n",
       "2           0       0        0                0               0       0   \n",
       "3           0       0        0                0               0       0   \n",
       "4           0       0        0                0               0       0   \n",
       "...       ...     ...      ...              ...             ...     ...   \n",
       "9686        0       0        0                0               0       0   \n",
       "9687        0       0        0                0               0       0   \n",
       "9688        0       0        0                0               0       0   \n",
       "9689        0       0        0                0               0       0   \n",
       "9690        0       0        0                0               0       0   \n",
       "\n",
       "      Westworld  His Dark Materials  Shadow and Bone  South Park  ...  \\\n",
       "0             0                   0                0           0  ...   \n",
       "1             0                   0                0           0  ...   \n",
       "2             0                   0                0           0  ...   \n",
       "3             0                   0                0           0  ...   \n",
       "4             0                   0                0           0  ...   \n",
       "...         ...                 ...              ...         ...  ...   \n",
       "9686          0                   0                0           0  ...   \n",
       "9687          0                   0                0           0  ...   \n",
       "9688          0                   0                0           0  ...   \n",
       "9689          0                   0                0           0  ...   \n",
       "9690          0                   0                0           0  ...   \n",
       "\n",
       "      Constantine  Elementary  The Mentalist  Gotham  Daredevil  Narcos  \\\n",
       "0               0           0              0       0          0       0   \n",
       "1               0           0              1       0          0       0   \n",
       "2               0           0              0       0          0       0   \n",
       "3               1           0              0       0          0       0   \n",
       "4               0           0              0       0          0       0   \n",
       "...           ...         ...            ...     ...        ...     ...   \n",
       "9686            0           0              0       0          0       0   \n",
       "9687            0           0              0       0          1       0   \n",
       "9688            0           0              0       0          0       0   \n",
       "9689            0           0              0       0          0       0   \n",
       "9690            0           0              0       0          0       0   \n",
       "\n",
       "      Teen Wolf  Good Omens  Friends  How I met your mother  \n",
       "0             0           0        0                      0  \n",
       "1             0           0        0                      0  \n",
       "2             0           0        0                      0  \n",
       "3             0           0        0                      0  \n",
       "4             0           0        0                      0  \n",
       "...         ...         ...      ...                    ...  \n",
       "9686          0           0        0                      0  \n",
       "9687          0           0        0                      0  \n",
       "9688          0           0        0                      0  \n",
       "9689          0           0        0                      0  \n",
       "9690          0           0        0                      0  \n",
       "\n",
       "[9691 rows x 156 columns]"
      ]
     },
     "execution_count": 3,
     "metadata": {},
     "output_type": "execute_result"
    }
   ],
   "source": [
    "# numpy array of items\n",
    "# importing the ECLAT module\n",
    "from pyECLAT import ECLAT\n",
    "# loading watch DataFrame to ECLAT class\n",
    "eclat = ECLAT(data=df)\n",
    "# DataFrame of binary values\n",
    "eclat.df_bin"
   ]
  },
  {
   "cell_type": "code",
   "execution_count": 4,
   "metadata": {},
   "outputs": [
    {
     "data": {
      "text/plain": [
       "Shooter                  105\n",
       "Madmen                   109\n",
       "Banshee                  370\n",
       "The Good Doctor           55\n",
       "Into the night            80\n",
       "                        ... \n",
       "Narcos                    32\n",
       "Teen Wolf                  7\n",
       "Good Omens                 6\n",
       "Friends                   55\n",
       "How I met your mother    779\n",
       "Length: 156, dtype: int64"
      ]
     },
     "execution_count": 4,
     "metadata": {},
     "output_type": "execute_result"
    }
   ],
   "source": [
    "# count items in each column\n",
    "items_total = eclat.df_bin.astype(int).sum(axis=0)\n",
    "items_total"
   ]
  },
  {
   "cell_type": "code",
   "execution_count": 5,
   "metadata": {},
   "outputs": [
    {
     "data": {
      "text/plain": [
       "0        4\n",
       "1       12\n",
       "2        4\n",
       "3        6\n",
       "4        1\n",
       "        ..\n",
       "9686     7\n",
       "9687     3\n",
       "9688     3\n",
       "9689     1\n",
       "9690     4\n",
       "Length: 9691, dtype: int64"
      ]
     },
     "execution_count": 5,
     "metadata": {},
     "output_type": "execute_result"
    }
   ],
   "source": [
    "# count items in each row\n",
    "items_per_watch = eclat.df_bin.astype(int).sum(axis=1)\n",
    "items_per_watch"
   ]
  },
  {
   "cell_type": "code",
   "execution_count": 6,
   "metadata": {},
   "outputs": [
    {
     "data": {
      "text/plain": [
       "0        4\n",
       "1       12\n",
       "2        4\n",
       "3        6\n",
       "4        1\n",
       "        ..\n",
       "9686     7\n",
       "9687     3\n",
       "9688     3\n",
       "9689     1\n",
       "9690     4\n",
       "Length: 9691, dtype: int64"
      ]
     },
     "execution_count": 6,
     "metadata": {},
     "output_type": "execute_result"
    }
   ],
   "source": [
    "eclat.df_bin.astype(int).sum(axis=1)"
   ]
  },
  {
   "cell_type": "code",
   "execution_count": 7,
   "metadata": {},
   "outputs": [
    {
     "data": {
      "text/html": [
       "<style type=\"text/css\">\n",
       "#T_f56a4_row0_col1 {\n",
       "  background-color: #08306b;\n",
       "  color: #f1f1f1;\n",
       "}\n",
       "#T_f56a4_row1_col1 {\n",
       "  background-color: #7ab6d9;\n",
       "  color: #000000;\n",
       "}\n",
       "#T_f56a4_row2_col1 {\n",
       "  background-color: #9dcae1;\n",
       "  color: #000000;\n",
       "}\n",
       "#T_f56a4_row3_col1 {\n",
       "  background-color: #b5d4e9;\n",
       "  color: #000000;\n",
       "}\n",
       "#T_f56a4_row4_col1 {\n",
       "  background-color: #f7fbff;\n",
       "  color: #000000;\n",
       "}\n",
       "</style>\n",
       "<table id=\"T_f56a4\">\n",
       "  <thead>\n",
       "    <tr>\n",
       "      <th class=\"blank level0\" >&nbsp;</th>\n",
       "      <th id=\"T_f56a4_level0_col0\" class=\"col_heading level0 col0\" >items</th>\n",
       "      <th id=\"T_f56a4_level0_col1\" class=\"col_heading level0 col1\" >watch</th>\n",
       "    </tr>\n",
       "  </thead>\n",
       "  <tbody>\n",
       "    <tr>\n",
       "      <th id=\"T_f56a4_level0_row0\" class=\"row_heading level0 row0\" >61</th>\n",
       "      <td id=\"T_f56a4_row0_col0\" class=\"data row0 col0\" >Sex Education</td>\n",
       "      <td id=\"T_f56a4_row0_col1\" class=\"data row0 col1\" >2477</td>\n",
       "    </tr>\n",
       "    <tr>\n",
       "      <th id=\"T_f56a4_level0_row1\" class=\"row_heading level0 row1\" >68</th>\n",
       "      <td id=\"T_f56a4_row1_col0\" class=\"data row1 col0\" >Ozark</td>\n",
       "      <td id=\"T_f56a4_row1_col1\" class=\"data row1 col1\" >1877</td>\n",
       "    </tr>\n",
       "    <tr>\n",
       "      <th id=\"T_f56a4_level0_row2\" class=\"row_heading level0 row2\" >16</th>\n",
       "      <td id=\"T_f56a4_row2_col0\" class=\"data row2 col0\" >Two and a half men</td>\n",
       "      <td id=\"T_f56a4_row2_col1\" class=\"data row2 col1\" >1779</td>\n",
       "    </tr>\n",
       "    <tr>\n",
       "      <th id=\"T_f56a4_level0_row3\" class=\"row_heading level0 row3\" >130</th>\n",
       "      <td id=\"T_f56a4_row3_col0\" class=\"data row3 col0\" >Outer Banks</td>\n",
       "      <td id=\"T_f56a4_row3_col1\" class=\"data row3 col1\" >1696</td>\n",
       "    </tr>\n",
       "    <tr>\n",
       "      <th id=\"T_f56a4_level0_row4\" class=\"row_heading level0 row4\" >97</th>\n",
       "      <td id=\"T_f56a4_row4_col0\" class=\"data row4 col0\" >Atypical</td>\n",
       "      <td id=\"T_f56a4_row4_col1\" class=\"data row4 col1\" >1356</td>\n",
       "    </tr>\n",
       "  </tbody>\n",
       "</table>\n"
      ],
      "text/plain": [
       "<pandas.io.formats.style.Styler at 0x132ff2d90>"
      ]
     },
     "execution_count": 7,
     "metadata": {},
     "output_type": "execute_result"
    }
   ],
   "source": [
    "# Loading items per column stats to the DataFrame\n",
    "df = pd.DataFrame({'items': items_total.index, 'watch': items_total.values}) \n",
    "# cloning pandas DataFrame for visualization purpose  \n",
    "df_table = df.sort_values(\"watch\", ascending=False)\n",
    "#  Top 5 most popular products/items\n",
    "df_table.head(5).style.background_gradient(cmap='Blues')"
   ]
  },
  {
   "cell_type": "code",
   "execution_count": 8,
   "metadata": {},
   "outputs": [
    {
     "data": {
      "application/vnd.plotly.v1+json": {
       "config": {
        "plotlyServerURL": "https://plot.ly"
       },
       "data": [
        {
         "branchvalues": "total",
         "customdata": [
          [
           "12 Monkeys",
           569
          ],
          [
           "Absentia",
           747
          ],
          [
           "Archer",
           560
          ],
          [
           "Atypical",
           1356
          ],
          [
           "Banshee",
           370
          ],
          [
           "Berlin Station",
           538
          ],
          [
           "Big Little Lies",
           316
          ],
          [
           "Brooklyn Nine Nine",
           264
          ],
          [
           "Chernobyl",
           506
          ],
          [
           "Cobra Kai",
           806
          ],
          [
           "Constantine",
           360
          ],
          [
           "Daredevil",
           910
          ],
          [
           "Dark",
           864
          ],
          [
           "Deception",
           468
          ],
          [
           "Demon Slayer",
           731
          ],
          [
           "Designated Survivor",
           297
          ],
          [
           "Doctor Who",
           274
          ],
          [
           "Dr. House",
           616
          ],
          [
           "Family Guy",
           693
          ],
          [
           "Hanna",
           573
          ],
          [
           "How I met your mother",
           779
          ],
          [
           "How to get away with murder",
           369
          ],
          [
           "Jack Ryan",
           521
          ],
          [
           "Kingdom",
           630
          ],
          [
           "Lost",
           323
          ],
          [
           "Lucifer",
           949
          ],
          [
           "Mare of Easttown",
           277
          ],
          [
           "Mr. Robot",
           1060
          ],
          [
           "One Piece",
           561
          ],
          [
           "Only Murders in the building",
           273
          ],
          [
           "Outer Banks",
           1696
          ],
          [
           "Ozark",
           1877
          ],
          [
           "Preacher",
           384
          ],
          [
           "Queen of the South",
           510
          ],
          [
           "Rick And Morty",
           322
          ],
          [
           "Sex Education",
           2477
          ],
          [
           "Shadow and Bone",
           483
          ],
          [
           "Spartacus",
           377
          ],
          [
           "Stranger Things",
           1070
          ],
          [
           "Succession",
           304
          ],
          [
           "The Blacklist",
           1016
          ],
          [
           "The Mentalist",
           703
          ],
          [
           "The Night Manager",
           291
          ],
          [
           "The Stranger",
           417
          ],
          [
           "The Walking Dead",
           859
          ],
          [
           "The Wire",
           637
          ],
          [
           "Travellers",
           272
          ],
          [
           "Two and a half men",
           1779
          ],
          [
           "Vikings",
           327
          ],
          [
           "White Collar",
           317
          ],
          [
           "(?)",
           991.2822020309994
          ]
         ],
         "domain": {
          "x": [
           0,
           1
          ],
          "y": [
           0,
           1
          ]
         },
         "hovertemplate": "labels=%{label}<br>watch=%{value}<br>parent=%{parent}<br>id=%{id}<br>items=%{customdata[0]}<br>color=%{color}<extra></extra>",
         "ids": [
          "Tree Map/12 Monkeys",
          "Tree Map/Absentia",
          "Tree Map/Archer",
          "Tree Map/Atypical",
          "Tree Map/Banshee",
          "Tree Map/Berlin Station",
          "Tree Map/Big Little Lies",
          "Tree Map/Brooklyn Nine Nine",
          "Tree Map/Chernobyl",
          "Tree Map/Cobra Kai",
          "Tree Map/Constantine",
          "Tree Map/Daredevil",
          "Tree Map/Dark",
          "Tree Map/Deception",
          "Tree Map/Demon Slayer",
          "Tree Map/Designated Survivor",
          "Tree Map/Doctor Who",
          "Tree Map/Dr. House",
          "Tree Map/Family Guy",
          "Tree Map/Hanna",
          "Tree Map/How I met your mother",
          "Tree Map/How to get away with murder",
          "Tree Map/Jack Ryan",
          "Tree Map/Kingdom",
          "Tree Map/Lost",
          "Tree Map/Lucifer",
          "Tree Map/Mare of Easttown",
          "Tree Map/Mr. Robot",
          "Tree Map/One Piece",
          "Tree Map/Only Murders in the building",
          "Tree Map/Outer Banks",
          "Tree Map/Ozark",
          "Tree Map/Preacher",
          "Tree Map/Queen of the South",
          "Tree Map/Rick And Morty",
          "Tree Map/Sex Education",
          "Tree Map/Shadow and Bone",
          "Tree Map/Spartacus",
          "Tree Map/Stranger Things",
          "Tree Map/Succession",
          "Tree Map/The Blacklist",
          "Tree Map/The Mentalist",
          "Tree Map/The Night Manager",
          "Tree Map/The Stranger",
          "Tree Map/The Walking Dead",
          "Tree Map/The Wire",
          "Tree Map/Travellers",
          "Tree Map/Two and a half men",
          "Tree Map/Vikings",
          "Tree Map/White Collar",
          "Tree Map"
         ],
         "labels": [
          "12 Monkeys",
          "Absentia",
          "Archer",
          "Atypical",
          "Banshee",
          "Berlin Station",
          "Big Little Lies",
          "Brooklyn Nine Nine",
          "Chernobyl",
          "Cobra Kai",
          "Constantine",
          "Daredevil",
          "Dark",
          "Deception",
          "Demon Slayer",
          "Designated Survivor",
          "Doctor Who",
          "Dr. House",
          "Family Guy",
          "Hanna",
          "How I met your mother",
          "How to get away with murder",
          "Jack Ryan",
          "Kingdom",
          "Lost",
          "Lucifer",
          "Mare of Easttown",
          "Mr. Robot",
          "One Piece",
          "Only Murders in the building",
          "Outer Banks",
          "Ozark",
          "Preacher",
          "Queen of the South",
          "Rick And Morty",
          "Sex Education",
          "Shadow and Bone",
          "Spartacus",
          "Stranger Things",
          "Succession",
          "The Blacklist",
          "The Mentalist",
          "The Night Manager",
          "The Stranger",
          "The Walking Dead",
          "The Wire",
          "Travellers",
          "Two and a half men",
          "Vikings",
          "White Collar",
          "Tree Map"
         ],
         "marker": {
          "coloraxis": "coloraxis",
          "colors": [
           569,
           747,
           560,
           1356,
           370,
           538,
           316,
           264,
           506,
           806,
           360,
           910,
           864,
           468,
           731,
           297,
           274,
           616,
           693,
           573,
           779,
           369,
           521,
           630,
           323,
           949,
           277,
           1060,
           561,
           273,
           1696,
           1877,
           384,
           510,
           322,
           2477,
           483,
           377,
           1070,
           304,
           1016,
           703,
           291,
           417,
           859,
           637,
           272,
           1779,
           327,
           317,
           991.2822020309994
          ]
         },
         "name": "",
         "parents": [
          "Tree Map",
          "Tree Map",
          "Tree Map",
          "Tree Map",
          "Tree Map",
          "Tree Map",
          "Tree Map",
          "Tree Map",
          "Tree Map",
          "Tree Map",
          "Tree Map",
          "Tree Map",
          "Tree Map",
          "Tree Map",
          "Tree Map",
          "Tree Map",
          "Tree Map",
          "Tree Map",
          "Tree Map",
          "Tree Map",
          "Tree Map",
          "Tree Map",
          "Tree Map",
          "Tree Map",
          "Tree Map",
          "Tree Map",
          "Tree Map",
          "Tree Map",
          "Tree Map",
          "Tree Map",
          "Tree Map",
          "Tree Map",
          "Tree Map",
          "Tree Map",
          "Tree Map",
          "Tree Map",
          "Tree Map",
          "Tree Map",
          "Tree Map",
          "Tree Map",
          "Tree Map",
          "Tree Map",
          "Tree Map",
          "Tree Map",
          "Tree Map",
          "Tree Map",
          "Tree Map",
          "Tree Map",
          "Tree Map",
          "Tree Map",
          ""
         ],
         "type": "treemap",
         "values": [
          569,
          747,
          560,
          1356,
          370,
          538,
          316,
          264,
          506,
          806,
          360,
          910,
          864,
          468,
          731,
          297,
          274,
          616,
          693,
          573,
          779,
          369,
          521,
          630,
          323,
          949,
          277,
          1060,
          561,
          273,
          1696,
          1877,
          384,
          510,
          322,
          2477,
          483,
          377,
          1070,
          304,
          1016,
          703,
          291,
          417,
          859,
          637,
          272,
          1779,
          327,
          317,
          33678
         ]
        }
       ],
       "layout": {
        "coloraxis": {
         "colorbar": {
          "title": {
           "text": "color"
          }
         },
         "colorscale": [
          [
           0,
           "rgb(247,251,255)"
          ],
          [
           0.125,
           "rgb(222,235,247)"
          ],
          [
           0.25,
           "rgb(198,219,239)"
          ],
          [
           0.375,
           "rgb(158,202,225)"
          ],
          [
           0.5,
           "rgb(107,174,214)"
          ],
          [
           0.625,
           "rgb(66,146,198)"
          ],
          [
           0.75,
           "rgb(33,113,181)"
          ],
          [
           0.875,
           "rgb(8,81,156)"
          ],
          [
           1,
           "rgb(8,48,107)"
          ]
         ]
        },
        "legend": {
         "tracegroupgap": 0
        },
        "margin": {
         "t": 60
        },
        "template": {
         "data": {
          "bar": [
           {
            "error_x": {
             "color": "#2a3f5f"
            },
            "error_y": {
             "color": "#2a3f5f"
            },
            "marker": {
             "line": {
              "color": "#E5ECF6",
              "width": 0.5
             },
             "pattern": {
              "fillmode": "overlay",
              "size": 10,
              "solidity": 0.2
             }
            },
            "type": "bar"
           }
          ],
          "barpolar": [
           {
            "marker": {
             "line": {
              "color": "#E5ECF6",
              "width": 0.5
             },
             "pattern": {
              "fillmode": "overlay",
              "size": 10,
              "solidity": 0.2
             }
            },
            "type": "barpolar"
           }
          ],
          "carpet": [
           {
            "aaxis": {
             "endlinecolor": "#2a3f5f",
             "gridcolor": "white",
             "linecolor": "white",
             "minorgridcolor": "white",
             "startlinecolor": "#2a3f5f"
            },
            "baxis": {
             "endlinecolor": "#2a3f5f",
             "gridcolor": "white",
             "linecolor": "white",
             "minorgridcolor": "white",
             "startlinecolor": "#2a3f5f"
            },
            "type": "carpet"
           }
          ],
          "choropleth": [
           {
            "colorbar": {
             "outlinewidth": 0,
             "ticks": ""
            },
            "type": "choropleth"
           }
          ],
          "contour": [
           {
            "colorbar": {
             "outlinewidth": 0,
             "ticks": ""
            },
            "colorscale": [
             [
              0,
              "#0d0887"
             ],
             [
              0.1111111111111111,
              "#46039f"
             ],
             [
              0.2222222222222222,
              "#7201a8"
             ],
             [
              0.3333333333333333,
              "#9c179e"
             ],
             [
              0.4444444444444444,
              "#bd3786"
             ],
             [
              0.5555555555555556,
              "#d8576b"
             ],
             [
              0.6666666666666666,
              "#ed7953"
             ],
             [
              0.7777777777777778,
              "#fb9f3a"
             ],
             [
              0.8888888888888888,
              "#fdca26"
             ],
             [
              1,
              "#f0f921"
             ]
            ],
            "type": "contour"
           }
          ],
          "contourcarpet": [
           {
            "colorbar": {
             "outlinewidth": 0,
             "ticks": ""
            },
            "type": "contourcarpet"
           }
          ],
          "heatmap": [
           {
            "colorbar": {
             "outlinewidth": 0,
             "ticks": ""
            },
            "colorscale": [
             [
              0,
              "#0d0887"
             ],
             [
              0.1111111111111111,
              "#46039f"
             ],
             [
              0.2222222222222222,
              "#7201a8"
             ],
             [
              0.3333333333333333,
              "#9c179e"
             ],
             [
              0.4444444444444444,
              "#bd3786"
             ],
             [
              0.5555555555555556,
              "#d8576b"
             ],
             [
              0.6666666666666666,
              "#ed7953"
             ],
             [
              0.7777777777777778,
              "#fb9f3a"
             ],
             [
              0.8888888888888888,
              "#fdca26"
             ],
             [
              1,
              "#f0f921"
             ]
            ],
            "type": "heatmap"
           }
          ],
          "heatmapgl": [
           {
            "colorbar": {
             "outlinewidth": 0,
             "ticks": ""
            },
            "colorscale": [
             [
              0,
              "#0d0887"
             ],
             [
              0.1111111111111111,
              "#46039f"
             ],
             [
              0.2222222222222222,
              "#7201a8"
             ],
             [
              0.3333333333333333,
              "#9c179e"
             ],
             [
              0.4444444444444444,
              "#bd3786"
             ],
             [
              0.5555555555555556,
              "#d8576b"
             ],
             [
              0.6666666666666666,
              "#ed7953"
             ],
             [
              0.7777777777777778,
              "#fb9f3a"
             ],
             [
              0.8888888888888888,
              "#fdca26"
             ],
             [
              1,
              "#f0f921"
             ]
            ],
            "type": "heatmapgl"
           }
          ],
          "histogram": [
           {
            "marker": {
             "pattern": {
              "fillmode": "overlay",
              "size": 10,
              "solidity": 0.2
             }
            },
            "type": "histogram"
           }
          ],
          "histogram2d": [
           {
            "colorbar": {
             "outlinewidth": 0,
             "ticks": ""
            },
            "colorscale": [
             [
              0,
              "#0d0887"
             ],
             [
              0.1111111111111111,
              "#46039f"
             ],
             [
              0.2222222222222222,
              "#7201a8"
             ],
             [
              0.3333333333333333,
              "#9c179e"
             ],
             [
              0.4444444444444444,
              "#bd3786"
             ],
             [
              0.5555555555555556,
              "#d8576b"
             ],
             [
              0.6666666666666666,
              "#ed7953"
             ],
             [
              0.7777777777777778,
              "#fb9f3a"
             ],
             [
              0.8888888888888888,
              "#fdca26"
             ],
             [
              1,
              "#f0f921"
             ]
            ],
            "type": "histogram2d"
           }
          ],
          "histogram2dcontour": [
           {
            "colorbar": {
             "outlinewidth": 0,
             "ticks": ""
            },
            "colorscale": [
             [
              0,
              "#0d0887"
             ],
             [
              0.1111111111111111,
              "#46039f"
             ],
             [
              0.2222222222222222,
              "#7201a8"
             ],
             [
              0.3333333333333333,
              "#9c179e"
             ],
             [
              0.4444444444444444,
              "#bd3786"
             ],
             [
              0.5555555555555556,
              "#d8576b"
             ],
             [
              0.6666666666666666,
              "#ed7953"
             ],
             [
              0.7777777777777778,
              "#fb9f3a"
             ],
             [
              0.8888888888888888,
              "#fdca26"
             ],
             [
              1,
              "#f0f921"
             ]
            ],
            "type": "histogram2dcontour"
           }
          ],
          "mesh3d": [
           {
            "colorbar": {
             "outlinewidth": 0,
             "ticks": ""
            },
            "type": "mesh3d"
           }
          ],
          "parcoords": [
           {
            "line": {
             "colorbar": {
              "outlinewidth": 0,
              "ticks": ""
             }
            },
            "type": "parcoords"
           }
          ],
          "pie": [
           {
            "automargin": true,
            "type": "pie"
           }
          ],
          "scatter": [
           {
            "fillpattern": {
             "fillmode": "overlay",
             "size": 10,
             "solidity": 0.2
            },
            "type": "scatter"
           }
          ],
          "scatter3d": [
           {
            "line": {
             "colorbar": {
              "outlinewidth": 0,
              "ticks": ""
             }
            },
            "marker": {
             "colorbar": {
              "outlinewidth": 0,
              "ticks": ""
             }
            },
            "type": "scatter3d"
           }
          ],
          "scattercarpet": [
           {
            "marker": {
             "colorbar": {
              "outlinewidth": 0,
              "ticks": ""
             }
            },
            "type": "scattercarpet"
           }
          ],
          "scattergeo": [
           {
            "marker": {
             "colorbar": {
              "outlinewidth": 0,
              "ticks": ""
             }
            },
            "type": "scattergeo"
           }
          ],
          "scattergl": [
           {
            "marker": {
             "colorbar": {
              "outlinewidth": 0,
              "ticks": ""
             }
            },
            "type": "scattergl"
           }
          ],
          "scattermapbox": [
           {
            "marker": {
             "colorbar": {
              "outlinewidth": 0,
              "ticks": ""
             }
            },
            "type": "scattermapbox"
           }
          ],
          "scatterpolar": [
           {
            "marker": {
             "colorbar": {
              "outlinewidth": 0,
              "ticks": ""
             }
            },
            "type": "scatterpolar"
           }
          ],
          "scatterpolargl": [
           {
            "marker": {
             "colorbar": {
              "outlinewidth": 0,
              "ticks": ""
             }
            },
            "type": "scatterpolargl"
           }
          ],
          "scatterternary": [
           {
            "marker": {
             "colorbar": {
              "outlinewidth": 0,
              "ticks": ""
             }
            },
            "type": "scatterternary"
           }
          ],
          "surface": [
           {
            "colorbar": {
             "outlinewidth": 0,
             "ticks": ""
            },
            "colorscale": [
             [
              0,
              "#0d0887"
             ],
             [
              0.1111111111111111,
              "#46039f"
             ],
             [
              0.2222222222222222,
              "#7201a8"
             ],
             [
              0.3333333333333333,
              "#9c179e"
             ],
             [
              0.4444444444444444,
              "#bd3786"
             ],
             [
              0.5555555555555556,
              "#d8576b"
             ],
             [
              0.6666666666666666,
              "#ed7953"
             ],
             [
              0.7777777777777778,
              "#fb9f3a"
             ],
             [
              0.8888888888888888,
              "#fdca26"
             ],
             [
              1,
              "#f0f921"
             ]
            ],
            "type": "surface"
           }
          ],
          "table": [
           {
            "cells": {
             "fill": {
              "color": "#EBF0F8"
             },
             "line": {
              "color": "white"
             }
            },
            "header": {
             "fill": {
              "color": "#C8D4E3"
             },
             "line": {
              "color": "white"
             }
            },
            "type": "table"
           }
          ]
         },
         "layout": {
          "annotationdefaults": {
           "arrowcolor": "#2a3f5f",
           "arrowhead": 0,
           "arrowwidth": 1
          },
          "autotypenumbers": "strict",
          "coloraxis": {
           "colorbar": {
            "outlinewidth": 0,
            "ticks": ""
           }
          },
          "colorscale": {
           "diverging": [
            [
             0,
             "#8e0152"
            ],
            [
             0.1,
             "#c51b7d"
            ],
            [
             0.2,
             "#de77ae"
            ],
            [
             0.3,
             "#f1b6da"
            ],
            [
             0.4,
             "#fde0ef"
            ],
            [
             0.5,
             "#f7f7f7"
            ],
            [
             0.6,
             "#e6f5d0"
            ],
            [
             0.7,
             "#b8e186"
            ],
            [
             0.8,
             "#7fbc41"
            ],
            [
             0.9,
             "#4d9221"
            ],
            [
             1,
             "#276419"
            ]
           ],
           "sequential": [
            [
             0,
             "#0d0887"
            ],
            [
             0.1111111111111111,
             "#46039f"
            ],
            [
             0.2222222222222222,
             "#7201a8"
            ],
            [
             0.3333333333333333,
             "#9c179e"
            ],
            [
             0.4444444444444444,
             "#bd3786"
            ],
            [
             0.5555555555555556,
             "#d8576b"
            ],
            [
             0.6666666666666666,
             "#ed7953"
            ],
            [
             0.7777777777777778,
             "#fb9f3a"
            ],
            [
             0.8888888888888888,
             "#fdca26"
            ],
            [
             1,
             "#f0f921"
            ]
           ],
           "sequentialminus": [
            [
             0,
             "#0d0887"
            ],
            [
             0.1111111111111111,
             "#46039f"
            ],
            [
             0.2222222222222222,
             "#7201a8"
            ],
            [
             0.3333333333333333,
             "#9c179e"
            ],
            [
             0.4444444444444444,
             "#bd3786"
            ],
            [
             0.5555555555555556,
             "#d8576b"
            ],
            [
             0.6666666666666666,
             "#ed7953"
            ],
            [
             0.7777777777777778,
             "#fb9f3a"
            ],
            [
             0.8888888888888888,
             "#fdca26"
            ],
            [
             1,
             "#f0f921"
            ]
           ]
          },
          "colorway": [
           "#636efa",
           "#EF553B",
           "#00cc96",
           "#ab63fa",
           "#FFA15A",
           "#19d3f3",
           "#FF6692",
           "#B6E880",
           "#FF97FF",
           "#FECB52"
          ],
          "font": {
           "color": "#2a3f5f"
          },
          "geo": {
           "bgcolor": "white",
           "lakecolor": "white",
           "landcolor": "#E5ECF6",
           "showlakes": true,
           "showland": true,
           "subunitcolor": "white"
          },
          "hoverlabel": {
           "align": "left"
          },
          "hovermode": "closest",
          "mapbox": {
           "style": "light"
          },
          "paper_bgcolor": "white",
          "plot_bgcolor": "#E5ECF6",
          "polar": {
           "angularaxis": {
            "gridcolor": "white",
            "linecolor": "white",
            "ticks": ""
           },
           "bgcolor": "#E5ECF6",
           "radialaxis": {
            "gridcolor": "white",
            "linecolor": "white",
            "ticks": ""
           }
          },
          "scene": {
           "xaxis": {
            "backgroundcolor": "#E5ECF6",
            "gridcolor": "white",
            "gridwidth": 2,
            "linecolor": "white",
            "showbackground": true,
            "ticks": "",
            "zerolinecolor": "white"
           },
           "yaxis": {
            "backgroundcolor": "#E5ECF6",
            "gridcolor": "white",
            "gridwidth": 2,
            "linecolor": "white",
            "showbackground": true,
            "ticks": "",
            "zerolinecolor": "white"
           },
           "zaxis": {
            "backgroundcolor": "#E5ECF6",
            "gridcolor": "white",
            "gridwidth": 2,
            "linecolor": "white",
            "showbackground": true,
            "ticks": "",
            "zerolinecolor": "white"
           }
          },
          "shapedefaults": {
           "line": {
            "color": "#2a3f5f"
           }
          },
          "ternary": {
           "aaxis": {
            "gridcolor": "white",
            "linecolor": "white",
            "ticks": ""
           },
           "baxis": {
            "gridcolor": "white",
            "linecolor": "white",
            "ticks": ""
           },
           "bgcolor": "#E5ECF6",
           "caxis": {
            "gridcolor": "white",
            "linecolor": "white",
            "ticks": ""
           }
          },
          "title": {
           "x": 0.05
          },
          "xaxis": {
           "automargin": true,
           "gridcolor": "white",
           "linecolor": "white",
           "ticks": "",
           "title": {
            "standoff": 15
           },
           "zerolinecolor": "white",
           "zerolinewidth": 2
          },
          "yaxis": {
           "automargin": true,
           "gridcolor": "white",
           "linecolor": "white",
           "ticks": "",
           "title": {
            "standoff": 15
           },
           "zerolinecolor": "white",
           "zerolinewidth": 2
          }
         }
        }
       }
      }
     },
     "metadata": {},
     "output_type": "display_data"
    }
   ],
   "source": [
    "# importing required module\n",
    "import plotly.express as px\n",
    "# to have a same origin\n",
    "df_table[\"all\"] = \"Tree Map\" \n",
    "# creating tree map using plotly\n",
    "fig = px.treemap(df_table.head(50), path=['all', \"items\"], values='watch',\n",
    "                  color=df_table[\"watch\"].head(50), hover_data=['items'],\n",
    "                  color_continuous_scale='Blues',\n",
    "                )\n",
    "# ploting the treemap\n",
    "fig.show()"
   ]
  },
  {
   "cell_type": "code",
   "execution_count": 9,
   "metadata": {},
   "outputs": [
    {
     "name": "stdout",
     "output_type": "stream",
     "text": [
      "Combination 2 by 2\n"
     ]
    },
    {
     "name": "stderr",
     "output_type": "stream",
     "text": [
      "406it [00:01, 397.95it/s]\n"
     ]
    },
    {
     "name": "stdout",
     "output_type": "stream",
     "text": [
      "Combination 3 by 3\n"
     ]
    },
    {
     "name": "stderr",
     "output_type": "stream",
     "text": [
      "3654it [00:08, 422.84it/s]\n"
     ]
    },
    {
     "name": "stdout",
     "output_type": "stream",
     "text": [
      "Combination 4 by 4\n"
     ]
    },
    {
     "name": "stderr",
     "output_type": "stream",
     "text": [
      "23751it [00:58, 408.01it/s]\n"
     ]
    },
    {
     "name": "stdout",
     "output_type": "stream",
     "text": [
      "Combination 5 by 5\n"
     ]
    },
    {
     "name": "stderr",
     "output_type": "stream",
     "text": [
      "118755it [05:00, 395.30it/s]\n"
     ]
    },
    {
     "name": "stdout",
     "output_type": "stream",
     "text": [
      "Combination 6 by 6\n"
     ]
    },
    {
     "name": "stderr",
     "output_type": "stream",
     "text": [
      "475020it [21:40, 365.23it/s]\n"
     ]
    },
    {
     "name": "stdout",
     "output_type": "stream",
     "text": [
      "Combination 7 by 7\n"
     ]
    },
    {
     "name": "stderr",
     "output_type": "stream",
     "text": [
      "1261619it [58:34, 366.58it/s]"
     ]
    }
   ],
   "source": [
    "# the item shoud appear at least at 5% of watch\n",
    "min_support = 5/100\n",
    "# start from watch containing at least 2 items\n",
    "min_combination = 2\n",
    "# up to maximum items per watch\n",
    "max_combination = max(items_per_watch)\n",
    "rule_indices, rule_supports = eclat.fit(min_support=min_support,\n",
    "                                                 min_combination=min_combination,\n",
    "                                                 max_combination=max_combination,\n",
    "                                                 separator=' & ',\n",
    "                                                 verbose=True)"
   ]
  },
  {
   "cell_type": "code",
   "execution_count": null,
   "metadata": {},
   "outputs": [],
   "source": [
    "result = pd.DataFrame(rule_supports.items(),columns=['Item', 'Support'])\n",
    "result.sort_values(by=['Support'], ascending=False)"
   ]
  }
 ],
 "metadata": {
  "kernelspec": {
   "display_name": "Python 3",
   "language": "python",
   "name": "python3"
  },
  "language_info": {
   "codemirror_mode": {
    "name": "ipython",
    "version": 3
   },
   "file_extension": ".py",
   "mimetype": "text/x-python",
   "name": "python",
   "nbconvert_exporter": "python",
   "pygments_lexer": "ipython3",
   "version": "3.11.5"
  }
 },
 "nbformat": 4,
 "nbformat_minor": 2
}
